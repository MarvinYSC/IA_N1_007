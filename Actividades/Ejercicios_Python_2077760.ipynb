{
  "nbformat": 4,
  "nbformat_minor": 0,
  "metadata": {
    "colab": {
      "provenance": []
    },
    "kernelspec": {
      "name": "python3",
      "display_name": "Python 3"
    },
    "language_info": {
      "name": "python"
    }
  },
  "cells": [
    {
      "cell_type": "code",
      "source": [
        "#MARVIN YAIR SANCHEZ CRUZ - 2077760_IMTC_IA_N1\n",
        "n = input(\"¿Cuál es tu nombre? \")\n",
        "\n",
        "if n == \"Ana\" or n == \"ana\" or n == \"Juan\" or n == \"juan\" or n == \"Pedro\" or n == \"pedro\":\n",
        "    print(\"No puedo saludar.\")\n",
        "else:\n",
        "    print(\"Hola, \" + n )"
      ],
      "metadata": {
        "colab": {
          "base_uri": "https://localhost:8080/"
        },
        "id": "99Z9X8l3Hiik",
        "outputId": "c60b1166-18b8-498a-83d7-0cddd7481e5c"
      },
      "execution_count": 5,
      "outputs": [
        {
          "output_type": "stream",
          "name": "stdout",
          "text": [
            "¿Cuál es tu nombre? marvin\n",
            "Hola, marvin\n"
          ]
        }
      ]
    },
    {
      "cell_type": "code",
      "source": [
        "    num = input(\"Elemetos de la lista separado en comas \")\n",
        "    lista = num.split(\",\")\n",
        "    lista.reverse()\n",
        "    print(\"La lista invertida es:\", lista)"
      ],
      "metadata": {
        "id": "g8SNOWkAMkS-",
        "colab": {
          "base_uri": "https://localhost:8080/"
        },
        "outputId": "65871a06-5a4a-40cd-b5bc-a11dad2d2810"
      },
      "execution_count": 1,
      "outputs": [
        {
          "output_type": "stream",
          "name": "stdout",
          "text": [
            "Elemetos de la lista separado en comas uva, fresa, cereza, manzana, frambuesa, arandano\n",
            "La lista invertida es: [' arandano', ' frambuesa', ' manzana', ' cereza', ' fresa', 'uva']\n"
          ]
        }
      ]
    },
    {
      "cell_type": "code",
      "source": [
        "CN = int(input(\"Ingrese la cantidad de números para generar: \"))\n",
        "x = 0\n",
        "y = 1\n",
        "print(\"Los primeros\", CN, \"números de la serie de Fibonacci son:\")\n",
        "for i in range(CN):\n",
        "    print(y)\n",
        "    z = x + y\n",
        "    x = y\n",
        "    y = z\n"
      ],
      "metadata": {
        "colab": {
          "base_uri": "https://localhost:8080/"
        },
        "id": "efMgeXRkYhQh",
        "outputId": "944b3c51-fe9d-4bec-e0cf-a4f6fcd2d063"
      },
      "execution_count": 2,
      "outputs": [
        {
          "output_type": "stream",
          "name": "stdout",
          "text": [
            "Ingrese la cantidad de números para generar: 9\n",
            "Los primeros 9 números de la serie de Fibonacci son:\n",
            "1\n",
            "1\n",
            "2\n",
            "3\n",
            "5\n",
            "8\n",
            "13\n",
            "21\n",
            "34\n"
          ]
        }
      ]
    }
  ]
}